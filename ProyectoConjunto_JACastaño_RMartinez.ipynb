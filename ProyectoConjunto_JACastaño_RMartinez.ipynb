{
 "cells": [
  {
   "cell_type": "markdown",
   "metadata": {},
   "source": [
    "<img style=\"float: left; margin: 30px 15px 15px 15px;\" src=\"https://pngimage.net/wp-content/uploads/2018/06/logo-iteso-png-5.png\" width=\"300\" height=\"500\" /> \n",
    "    \n",
    "    \n",
    "### <font color='navy'> Simulación de procesos financieros. \n",
    "\n",
    "**Nombres:** José Antonio Castaño Gtz. y Rodrigo Martinez Gallardo Bertoldi.\n",
    "    \n",
    "\n",
    "**Fecha:** 01 de febrero del 2021.\n",
    "\n",
    "**Expediente** : IF711469 e IF722268\n",
    "\n",
    "**Profesor:** Oscar David Jaramillo Zuluaga.\n",
    "\n",
    "# Tarea 1 -a) Git : Clase 2_Gittutorial"
   ]
  },
  {
   "cell_type": "markdown",
   "metadata": {},
   "source": [
    "### Proyecto Colaborativo\n",
    "> 1. En este nuevo notebook el ESTUDIANTE 1 y ESTUDIANTE 2, deben realizar una presentación describiendo sus expectativas del curso y la transcipción de la Figura 1 y Figura 2 respectivamente, haciendo uso de la sintaxis Markdown. \n",
    "\n",
    "> 2. ESTUDIANTE 1,realizará un programa que imprima la serie de fibonacci para sus primeros 100 términos en un array de python,usando la rama “master” del repositorio creado. Por otro lado, el ESTUDIANTE 2,creando un “branch” llamado ejerPrograma, generará un programa que muestre los números primos del 0-100."
   ]
  },
  {
   "cell_type": "markdown",
   "metadata": {},
   "source": [
    "## 1. Expectativas del curso y figuras\n",
    "#### José Antonio Castaño Gutiérrez\n",
    "- Aumentar y mejorar mis herramientas como habilidades en programación python.\n",
    "- Aprender a simular y analizar procesos financieros de forma óptima.\n",
    "- Lograr resultados y conclusiones de todo lo trabajado y aprendido mediante el curso y su proceso.\n",
    "\n",
    "#### Rodrigo Martinez Gallardo Bertoldi\n",
    "- Mejorar la fluidez y aprender nuevas sintáxis para trabajar en Markdown y Latex, usandose posteriormente para lograr mejor cálidad en proyectos profesionales.\n",
    "- Pulir los conocimientos del manejo de git, github y gitkraken para trabajos continuos.\n",
    "- Aprender el manejo de Python para visualización, así como caálculos financieros y refrescar la memoria.\n",
    "- Mejorar el trabajo en equipo a distancia."
   ]
  },
  {
   "cell_type": "markdown",
   "metadata": {},
   "source": [
    "|$i$                       | $x$                         |                        $f(x)$|\n",
    "|--------------------------|-----------------------------|------------------------------|\n",
    "|$0$                       |$-1$                         |                      $0.3678$|\n",
    "|<span style=\"color:red\">$1$|<span style=\"color:red\"> $-0.5$|<span style=\"color:red\">$0.7788$|\n",
    "|<span style=\"color:blue\">$2$|<span style=\"color:blue\">  $0$|<span style=\"color:blue\">    $1$|\n",
    "|<span style=\"color:red\"> $3$|<span style=\"color:red\"> $0.5$|<span style=\"color:red\">$0.7788$|\n",
    "|$4$                      |                              $1$|                        $0.3678$|\n",
    "    \n",
    "$$\\text{Cuadro 1: Tabla de valores de $f(x)$}$$\n",
    "\n",
    "<p style='text-align: center;'> $ \\int_{-1}^{1} e^{-x^{2}}dx \\approx \\frac{0,5}{3} [f(-1) + f(1) + 4($<span style=\"color:red\">$f(-0,5) + f(0,5)$</span>$) + 2 $<span style=\"color:blue\" >$f(0)$</span>$]$\n",
    "    \n",
    "<p style='text-align: center;'> $\\approx$ $ \\frac{0,5}{3} [0,3678 + 0,3678 + 4($<span style=\"color:red\">$0,7788 + 0,7788 $</span>$) + 2 \\cdot $<span style=\"color:blue\" > $1$</span>$]  \\approx 1,4943$\n",
    "    \n",
    "<p style='text-align: center;'> A modo de verificación, se calculará por software, el valor del área para $n=100$, un valor mucho más elevado al que se utilizó anteriormente. Si lo calculado previamente es correcto, se esperaría que sea próximo al valor presentado a continuación para que sea una buena aproximación.\n",
    "    \n",
    "<p style='text-align: center;'> $ \\int_{-1}^{1} e^{-x^{2}}dx \\approx 1,4936$\n",
    "    \n",
    "$$ \\text{Figura 1: Figura que debe transcribir 'José Antonio Castaño'} $$"
   ]
  },
  {
   "cell_type": "markdown",
   "metadata": {},
   "source": [
    "## 2. Serie Fibonacci"
   ]
  },
  {
   "cell_type": "markdown",
   "metadata": {},
   "source": [
    "| $i$           | $1$   | $2$   | $3$   | $4$   | $5$ | $6$ | $7$  |\n",
    "|---------------|-------|-------|-------|-------|-----|-----|------|\n",
    "| $E_i\\left(V\\right)$      | $12$  | $10$  | $24$  | $12$  | $-$   | $-$   | $-$    |\n",
    "| $r_i(\\Omega)$ | $0.1$ | $0.5$ | $0.2$ | $0.5$ | $-$   | $-$   | $-$    |\n",
    "| $R_i(\\Omega)$ | $25$  | $40$  | $16$  | $20$  | $9$ | $4$ | $20$ |"
   ]
  },
  {
   "cell_type": "markdown",
   "metadata": {},
   "source": [
    "<p style='text-align: justify;'> <span style='color: blue;'>Kemna y Vorst (1990)</span> muestran que las opciones asiáticas con media geométrica continua se pueden valuar con el mismo enfoque de las opciones <i>plain vanilla</i>; solo se deben cambiar los parámetros de volatilidad $\\sigma$ por $\\sigma_a$, y el costo de acarreo $b$ por $b_a$.\n",
    "    \n",
    "<p style='text-align: justify;'>De acuerdo con Kemna y Vorst, las fórmulas para valuar una opción de compra y una de venta son:\n",
    "\n",
    "<p style='text-align: center;'>$c \\approx S_te^{(b_A-r)(T-t)}\\phi(d_1)-Ke^{-r(T-t)}\\phi(d2).$\n",
    "    \n",
    "<p style='text-align: center;'>$p \\approx Ke^{-r(T-t)}\\phi(d2)-S_te^{(b_A-r)(T-t)}\\phi(d_1).$\n",
    "    \n",
    "<p style='text-align: justify;'>con $d_1$ y $d_2$ dados por:\n",
    "    \n",
    "<p style='text-align: center;'>$d_1=\\frac{ln\\left(S_t/K\\right) + \\left(b_A + 1/2\\sigma^2_a\\right) \\left(T-t\\right)}{\\sigma\\sqrt{T-t}}.$\n",
    " \n",
    "<p style='text-align: center;'>$d_2=d_1-\\sigma_a\\sqrt{T-t}.$\n",
    "    \n",
    "<p style='text-align: justify;'>La función $\\phi(d)$ es la función de distribución acumulada de $E\\sim\\mathit{N(0,1)}.$ La volatilidad ajustada es igual a:\n",
    "    \n",
    "<p style='text-align: center;'>$\\sigma_a=\\frac{\\sigma}{\\sqrt{3}},$    \n",
    "    \n",
    "<p style='text-align: justify;'>mientras que el costo de acarreo ajustado es:\n",
    "    \n",
    "<p style='text-align: center;'>$b_A=\\frac{1}{2}\\left(v-\\frac{\\sigma^{2}}{6}\\right).$\n",
    "    \n",
    " $$ \\text{Figura 1: Figura que debe transcribir 'Rodrigo Martinez'} $$"
   ]
  },
  {
   "cell_type": "markdown",
   "metadata": {},
   "source": [
    "### Progama generador de números primos del 1-100"
   ]
  },
  {
   "cell_type": "code",
   "execution_count": 1,
   "metadata": {},
   "outputs": [],
   "source": [
    "n = 1\n",
    "\n",
    "while n <= 100:\n",
    "    count = 1\n",
    "    a = 0\n",
    "    \n",
    "    while count <= n:\n",
    "        if n % count == 0:\n",
    "            a+=1\n",
    "        count+=1\n",
    "    if a==2:\n",
    "        print(n)\n",
    "    n+=1\n",
    "    \n"
   ]
  }
 ],
 "metadata": {
  "kernelspec": {
   "display_name": "Python 3",
   "language": "python",
   "name": "python3"
  },
  "language_info": {
   "codemirror_mode": {
    "name": "ipython",
    "version": 3
   },
   "file_extension": ".py",
   "mimetype": "text/x-python",
   "name": "python",
   "nbconvert_exporter": "python",
   "pygments_lexer": "ipython3",
   "version": "3.8.5"
  }
 },
 "nbformat": 4,
 "nbformat_minor": 4
}
